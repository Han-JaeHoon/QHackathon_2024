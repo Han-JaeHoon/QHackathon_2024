{
 "cells": [
  {
   "cell_type": "code",
   "execution_count": 148,
   "metadata": {},
   "outputs": [],
   "source": [
    "import pandas as pd\n",
    "import ast"
   ]
  },
  {
   "cell_type": "code",
   "execution_count": 149,
   "metadata": {},
   "outputs": [],
   "source": [
    "max_min = 1669.6895\n",
    "min = 85.19250000000002"
   ]
  },
  {
   "cell_type": "code",
   "execution_count": 150,
   "metadata": {},
   "outputs": [],
   "source": [
    "scale_list = ['train_predict','train_label','validation_predict','validation_label']\n",
    "all_list = ['train_loss','test_loss'] + scale_list"
   ]
  },
  {
   "cell_type": "code",
   "execution_count": 151,
   "metadata": {},
   "outputs": [],
   "source": [
    "model_name = 'qRNN'"
   ]
  },
  {
   "cell_type": "code",
   "execution_count": 124,
   "metadata": {},
   "outputs": [
    {
     "name": "stderr",
     "output_type": "stream",
     "text": [
      "C:\\Users\\pop75\\AppData\\Local\\Temp\\ipykernel_22584\\200235007.py:2: FutureWarning: DataFrame.applymap has been deprecated. Use DataFrame.map instead.\n",
      "  qRNN_cls = qRNN_cls.applymap(lambda x: 0 if pd.isna(x) else x)\n",
      "C:\\Users\\pop75\\AppData\\Local\\Temp\\ipykernel_22584\\200235007.py:4: FutureWarning: DataFrame.applymap has been deprecated. Use DataFrame.map instead.\n",
      "  qRNN_KAN = qRNN_KAN.applymap(lambda x: 0 if pd.isna(x) else x)\n",
      "C:\\Users\\pop75\\AppData\\Local\\Temp\\ipykernel_22584\\200235007.py:6: FutureWarning: DataFrame.applymap has been deprecated. Use DataFrame.map instead.\n",
      "  qRNN_QNE = qRNN_QNE.applymap(lambda x: 0 if pd.isna(x) else x)\n",
      "C:\\Users\\pop75\\AppData\\Local\\Temp\\ipykernel_22584\\200235007.py:8: FutureWarning: DataFrame.applymap has been deprecated. Use DataFrame.map instead.\n",
      "  qRNN_fixed = qRNN_fixed.applymap(lambda x: 0 if pd.isna(x) else x)\n"
     ]
    }
   ],
   "source": [
    "\"\"\"\n",
    "qRNN_cls = pd.read_csv(f'./result_data/cRNN_fixed_data.csv')\n",
    "qRNN_cls = qRNN_cls.applymap(lambda x: 0 if pd.isna(x) else x)\n",
    "qRNN_KAN = pd.read_csv(f'./result_data/{model_name}_KAN_data.csv')\n",
    "qRNN_KAN = qRNN_KAN.applymap(lambda x: 0 if pd.isna(x) else x)\n",
    "qRNN_QNE = pd.read_csv(f'./result_data/{model_name}_NQE(KAN)_cor_data.csv')\n",
    "qRNN_QNE = qRNN_QNE.applymap(lambda x: 0 if pd.isna(x) else x)\n",
    "qRNN_fixed = pd.read_csv(f'./result_data/{model_name}_fixed_data.csv')\n",
    "qRNN_fixed = qRNN_fixed.applymap(lambda x: 0 if pd.isna(x) else x)\"\"\""
   ]
  },
  {
   "cell_type": "code",
   "execution_count": 152,
   "metadata": {},
   "outputs": [
    {
     "name": "stderr",
     "output_type": "stream",
     "text": [
      "C:\\Users\\pop75\\AppData\\Local\\Temp\\ipykernel_22584\\3521169628.py:2: FutureWarning: DataFrame.applymap has been deprecated. Use DataFrame.map instead.\n",
      "  qRNN_QNE = qRNN_QNE.applymap(lambda x: 0 if pd.isna(x) else x)\n"
     ]
    }
   ],
   "source": [
    "\n",
    "qRNN_QNE = pd.read_csv(f'./result_data/qRNN_NQE_data.csv')\n",
    "qRNN_QNE = qRNN_QNE.applymap(lambda x: 0 if pd.isna(x) else x)"
   ]
  },
  {
   "cell_type": "code",
   "execution_count": 153,
   "metadata": {},
   "outputs": [],
   "source": [
    "import numpy as np\n",
    "def get_data(model,train_loader,test_loader):\n",
    "    pred_list = []\n",
    "    train_label_list = []\n",
    "    test_pred_list = []\n",
    "    test_label_list = []\n",
    "    for data,label in train_loader:\n",
    "        pred = model(data)\n",
    "        pred_list.append(pred.detach().numpy())\n",
    "        train_label_list.append(label.numpy())\n",
    "    for data,label in test_loader:\n",
    "        pred = model(data)\n",
    "        test_pred_list.append(pred.detach().numpy())\n",
    "        test_label_list.append(label.numpy())\n",
    "\n",
    "    return list(np.concatenate(pred_list).reshape(-1)),list(np.concatenate(train_label_list).reshape(-1)),list(np.concatenate(test_pred_list).reshape(-1)),list(np.concatenate(test_label_list).reshape(-1))"
   ]
  },
  {
   "cell_type": "code",
   "execution_count": 154,
   "metadata": {},
   "outputs": [],
   "source": [
    "def decoding(data,cor=False):\n",
    "    result_data = pd.DataFrame(data)\n",
    "    print(data[scale_list])\n",
    "    if cor:\n",
    "        result_data[scale_list] = data[scale_list]*max_min+min\n",
    "        return result_data\n",
    "            \n",
    "    else:\n",
    "        result_data[scale_list] = data[scale_list]*max_min/6.28+min\n",
    "        return result_data"
   ]
  },
  {
   "cell_type": "code",
   "execution_count": 157,
   "metadata": {},
   "outputs": [
    {
     "name": "stdout",
     "output_type": "stream",
     "text": [
      "     train_predict  train_label  validation_predict  validation_label\n",
      "0         0.530004     0.606849            0.530004          0.606849\n",
      "1         0.649800     0.690162            0.649800          0.690162\n",
      "2         0.674145     0.762879            0.674145          0.762879\n",
      "3         0.683662     0.824691            0.683662          0.824691\n",
      "4         0.538152     0.449366            0.538152          0.449366\n",
      "..             ...          ...                 ...               ...\n",
      "495       0.000000     0.000000            0.000000          0.000000\n",
      "496       0.000000     0.000000            0.000000          0.000000\n",
      "497       0.000000     0.000000            0.000000          0.000000\n",
      "498       0.000000     0.000000            0.000000          0.000000\n",
      "499       0.000000     0.000000            0.000000          0.000000\n",
      "\n",
      "[500 rows x 4 columns]\n"
     ]
    }
   ],
   "source": [
    "import matplotlib.pyplot as plt\n",
    "#scaled_data_KAN = decoding(qRNN_KAN)\n",
    "scaled_data_QNE = decoding(qRNN_QNE,True)\n",
    "#scaled_data_fixed = decoding(qRNN_fixed)\n",
    "#scaled_data_cls = decoding(qRNN_cls)\n",
    "scaled_data_QNE.to_csv(f'./result_decoding/qRNN_NQE_data.csv')\n",
    "#scaled_data_KAN.to_csv(f'./result_decoding/{model_name}_KAN_data.csv')\n",
    "#scaled_data_fixed.to_csv(f'./result_decoding/{model_name}_fixed_data.csv')"
   ]
  },
  {
   "cell_type": "code",
   "execution_count": 159,
   "metadata": {},
   "outputs": [
    {
     "data": {
      "text/plain": [
       "<matplotlib.legend.Legend at 0x239765dd3d0>"
      ]
     },
     "execution_count": 159,
     "metadata": {},
     "output_type": "execute_result"
    },
    {
     "data": {
      "image/png": "[encoded data removed]",
      "text/plain": [
       "<Figure size 640x480 with 1 Axes>"
      ]
     },
     "metadata": {},
     "output_type": "display_data"
    }
   ],
   "source": [
    "plt.title('cRNN distribution')\n",
    "#plt.scatter(scaled_data_KAN['train_label'],scaled_data_KAN['train_predict'],label='KAN qRNN distribution', s=7)\n",
    "plt.scatter(scaled_data_QNE['train_label'],scaled_data_QNE['train_predict'],label='QNE qRNN distribution', s=7)\n",
    "#plt.scatter(scaled_data_fixed['train_label'],scaled_data_fixed['train_predict'],label=' qRNN distribution', s=7)\n",
    "#plt.scatter(scaled_data_fixed['train_label'],scaled_data_fixed['train_label'],label='ideal', s=5)\n",
    "plt.xlim(700)\n",
    "plt.ylim(700)\n",
    "plt.legend()"
   ]
  },
  {
   "cell_type": "code",
   "execution_count": 131,
   "metadata": {},
   "outputs": [],
   "source": [
    "from sklearn.metrics import mean_squared_error\n",
    "KAN_MSE = mean_squared_error(scaled_data_KAN['validation_label'],scaled_data_KAN['validation_predict'])\n",
    "QNE_MSE = mean_squared_error(scaled_data_QNE['validation_label'],scaled_data_QNE['validation_predict'])\n",
    "fixed_MSE = mean_squared_error(scaled_data_fixed['validation_label'],scaled_data_fixed['validation_predict'])\n",
    "#cls_MSE = mean_squared_error(scaled_data_cls['validation_label'],scaled_data_cls['validation_predict'])"
   ]
  },
  {
   "cell_type": "code",
   "execution_count": 160,
   "metadata": {},
   "outputs": [
    {
     "name": "stdout",
     "output_type": "stream",
     "text": [
      "6197.514235876422\n"
     ]
    }
   ],
   "source": [
    "QNE_MSE = mean_squared_error(scaled_data_QNE['validation_label'],scaled_data_QNE['validation_predict'])\n",
    "print(QNE_MSE)"
   ]
  },
  {
   "cell_type": "code",
   "execution_count": null,
   "metadata": {},
   "outputs": [],
   "source": []
  }
 ],
 "metadata": {
  "kernelspec": {
   "display_name": "EMT",
   "language": "python",
   "name": "python3"
  },
  "language_info": {
   "codemirror_mode": {
    "name": "ipython",
    "version": 3
   },
   "file_extension": ".py",
   "mimetype": "text/x-python",
   "name": "python",
   "nbconvert_exporter": "python",
   "pygments_lexer": "ipython3",
   "version": "3.11.9"
  }
 },
 "nbformat": 4,
 "nbformat_minor": 2
}
