{
  "cells": [
    {
      "cell_type": "code",
      "execution_count": 1,
      "metadata": {
        "id": "3yUJB9sbKg0m"
      },
      "outputs": [],
      "source": [
        "# Quantum\n",
        "import pennylane as qml\n",
        "# PyTorch\n",
        "import torch\n",
        "import torch.nn as nn\n",
        "import torch.nn.functional as F\n",
        "import torch.optim as optim\n",
        "# Numpy, Pandas\n",
        "import numpy as np\n",
        "import pandas as pd\n",
        "# Layer\n",
        "from kan import KAN\n",
        "from RNN_block import RNN_block\n",
        "# Data processing\n",
        "from fucntions import data_seq,train_seq\n",
        "from sklearn.preprocessing import MinMaxScaler"
      ]
    },
    {
      "cell_type": "markdown",
      "metadata": {},
      "source": [
        "## Functions\n",
        "\n",
        "- ansatz\n",
        "- embedding\n",
        "- fidelity\n",
        "- quantum_layer_Z\n",
        "- quantum_layer_prob\n",
        "- quantum_circuit\n",
        "- quantum_layer\n",
        "- generate_tensor"
      ]
    },
    {
      "cell_type": "code",
      "execution_count": 2,
      "metadata": {
        "id": "DiqQHp2AKg0n"
      },
      "outputs": [],
      "source": [
        "n_qu = 4\n",
        "dev = qml.device('default.qubit', wires=n_qu)\n",
        "\n",
        "def ansatz(params, n_qu, all_entangled = False):\n",
        "    # Length of Params : 3 * num_qubit\n",
        "    for i in range(n_qu):\n",
        "        qml.RX(params[:, 3*i], i)\n",
        "        qml.RY(params[:, 3 * i + 1], i)\n",
        "        qml.RZ(params[:, 3 * i + 2], i)\n",
        "    for i in range(n_qu - 1):\n",
        "        qml.CNOT([i, i + 1])\n",
        "    if all_entangled:\n",
        "        qml.CNOT([n_qu - 1, 0])\n",
        "\n",
        "def embedding(params, n_qu):\n",
        "    '''\n",
        "    embedding layer\n",
        "    '''\n",
        "    n = n_qu\n",
        "    for i in range(n):\n",
        "        qml.Hadamard(i)\n",
        "        qml.RZ(2.0 * params[:,i], i)\n",
        "    \n",
        "    for i in range(n - 1):\n",
        "        qml.IsingZZ(2.0 * params[:,n + i] ,[i , i + 1])\n",
        "\n",
        "\n",
        "@qml.qnode(dev, interface=\"torch\")\n",
        "def fidelity(vec1, vec2, n_qu):\n",
        "    '''\n",
        "        Args:\n",
        "            vec1 : list, (2n - 1)개의 element로 이루어진 vector\n",
        "            vec2 : list, (2n - 1)개의 element로 이루어진 vector\n",
        "    '''\n",
        "    embedding(vec1, n_qu) # Phi(x1) circuit 적용\n",
        "    qml.adjoint(embedding)(vec2, n_qu) # Phi^t(x2) 적용\n",
        "    return qml.probs()\n",
        "\n",
        "@qml.qnode(device=dev, interface='torch')\n",
        "def quantum_layer_Z(mapped_data1, mapped_data2, parameter1, parameter2, n_qu):\n",
        "    embedding(params=mapped_data1, n_qu=n_qu) #, is_first=True)\n",
        "    qml.Barrier()\n",
        "    ansatz(params=parameter1, n_qu = n_qu)\n",
        "    qml.Barrier()\n",
        "    embedding(params=mapped_data2, n_qu=n_qu) #, is_first=True)\n",
        "    qml.Barrier()\n",
        "    ansatz(params=parameter2, n_qu = n_qu)\n",
        "    return [qml.expval(qml.PauliZ(i)) for i in range(n_qu)]\n",
        "\n",
        "@qml.qnode(device=dev, interface='torch')\n",
        "def quantum_layer_prob(mapped_data1, mapped_data2, parameter1, parameter2, n_qu):\n",
        "    embedding(params=mapped_data1, n_qu=n_qu) #, is_first=True)\n",
        "    qml.Barrier()\n",
        "    ansatz(params=parameter1, n_qu=n_qu)\n",
        "    qml.Barrier()\n",
        "    embedding(params=mapped_data2, n_qu=n_qu) #, is_first=True)\n",
        "    qml.Barrier()\n",
        "    ansatz(params=parameter2, n_qu = n_qu)\n",
        "    return [qml.expval((qml.PauliZ(i)+qml.Identity(i))/2) for i in range(n_qu)]\n",
        "\n",
        "@qml.qnode(dev, interface=\"torch\")\n",
        "def quantum_circuit(inputs1,inputs2, weights1,weights2):\n",
        "    block = RNN_block(4)\n",
        "    block.embedding(inputs1)\n",
        "    block.ansatz(weights1)\n",
        "    block.embedding(inputs2)\n",
        "    block.ansatz(weights2)\n",
        "    return [qml.expval(qml.PauliZ(i)) for i in range(4)]\n",
        "\n",
        "def quantum_layer(inputs1,inputs2, weights1,weights2):\n",
        "    return quantum_circuit(inputs1,inputs2, weights1,weights2)\n",
        "\n",
        "def generate_tensor(seed, size):\n",
        "    \"\"\"\n",
        "    주어진 시드와 크기에 맞게 torch.Tensor를 생성합니다.\n",
        "\n",
        "    Args:\n",
        "        seed (int): 시드 값\n",
        "        size (tuple): 생성할 텐서의 크기\n",
        "\n",
        "    Returns:\n",
        "        torch.Tensor: 생성된 텐서\n",
        "    \"\"\"\n",
        "    torch.manual_seed(seed)\n",
        "    return torch.randn(size)\n",
        "\n",
        "def get_data(model,train_loader,test_loader):\n",
        "    pred_list = []\n",
        "    train_label_list = []\n",
        "    test_pred_list = []\n",
        "    test_label_list = []\n",
        "    for data,label in train_loader:\n",
        "        pred = model(data)\n",
        "        pred_list.append(pred.detach().numpy())\n",
        "        train_label_list.append(label.numpy())\n",
        "    for data,label in test_loader:\n",
        "        pred = model(data)\n",
        "        test_pred_list.append(pred.detach().numpy())\n",
        "        test_label_list.append(label.numpy())\n",
        "\n",
        "    return list(np.concatenate(pred_list).reshape(-1)),list(np.concatenate(train_label_list).reshape(-1)),list(np.concatenate(test_pred_list).reshape(-1)),list(np.concatenate(test_label_list).reshape(-1))"
      ]
    },
    {
      "cell_type": "markdown",
      "metadata": {},
      "source": [
        "## Classes / NQE, RNNModel, RNN_layer"
      ]
    },
    {
      "cell_type": "code",
      "execution_count": 74,
      "metadata": {},
      "outputs": [],
      "source": [
        "class NQE(nn.Module):\n",
        "    def __init__(self, n_feature, mode : str):\n",
        "        '''\n",
        "            Args:\n",
        "                type(str) : 'FC' or 'KAN'\n",
        "                n_feature(int) : # of feature\n",
        "        '''\n",
        "        super(NQE, self).__init__()\n",
        "\n",
        "        self.mode = mode\n",
        "\n",
        "        if mode == 'FC':\n",
        "            self.li1 = nn.Linear(n_feature, n_feature*2)\n",
        "            self.li2 = nn.Linear(2*n_feature, n_feature**2)\n",
        "            self.li3 = nn.Linear(n_feature**2, n_feature**2-n_feature)\n",
        "            self.li4 = nn.Linear(n_feature**2-n_feature, 2 * n_feature)\n",
        "            self.li5 = nn.Linear(2*n_feature, 2 * n_feature - 1)\n",
        "        \n",
        "        if mode == 'KAN':\n",
        "            self.n_qu = n_feature\n",
        "            self.linear1 = KAN([self.n_qu, self.n_qu * 2 + 1, self.n_qu * 2 - 1], grid = 1)\n",
        "            self.quantum_layer = fidelity\n",
        "\n",
        "    def forward_FC(self, inputs):\n",
        "        inputs = self.li1(inputs)\n",
        "        inputs = F.relu(inputs)\n",
        "        inputs = self.li2(inputs)\n",
        "        inputs = F.relu(inputs)\n",
        "        inputs = self.li3(inputs)\n",
        "        inputs = F.relu(inputs)\n",
        "        inputs = self.li4(inputs)\n",
        "        inputs = F.relu(inputs)\n",
        "        inputs = self.li5(inputs)\n",
        "        inputs = 2 * torch.pi * F.relu(inputs)\n",
        "        ## Quantum Layer 추가 필요\n",
        "        return inputs # Quantum Layer의 output을 리턴\n",
        "\n",
        "    def forwad_KAN(self, inputs):\n",
        "        input1 = inputs[0]\n",
        "        input2 = inputs[1]\n",
        "        input1 = self.linear1(input1)\n",
        "        input2 = self.linear1(input2)\n",
        "        output = self.quantum_layer(input1, input2, self.n_qu)[ : , 0]\n",
        "        return output\n",
        "\n",
        "    def forward(self, inputs):\n",
        "        if self.mode == 'FC':\n",
        "            return self.forward_FC(inputs)\n",
        "        if self.mode == 'KAN':\n",
        "            return self.forwad_KAN(inputs)\n",
        "    "
      ]
    },
    {
      "cell_type": "code",
      "execution_count": 79,
      "metadata": {},
      "outputs": [],
      "source": [
        "class RNNModel(nn.Module):\n",
        "    def __init__(self, input_size, hidden_size, output_size):\n",
        "        super(RNNModel, self).__init__()\n",
        "        self.hidden_size = hidden_size\n",
        "        self.rnn = nn.RNN(input_size, hidden_size, batch_first=True)\n",
        "        self.fc = nn.Linear(hidden_size, output_size)\n",
        "\n",
        "    def forward(self, x):\n",
        "        h0 = torch.zeros(1, x.size(0),self.hidden_size)  # 초기 은닉 상태\n",
        "        out, _ = self.rnn(x, h0)\n",
        "        out = self.fc(out[:, -1, :])  # 마지막 시퀀스의 출력을 사용\n",
        "        return out\n",
        "    \n",
        "class RNN_layer(nn.Module):\n",
        "    def __init__(self,input_size,output_size,num_layers,nQE_model=None):\n",
        "        \"\"\"_RNN layer 만든거_\n",
        "\n",
        "        Args:\n",
        "            input_size (_int_): _input feature의 개수_\n",
        "            output_size (_int_): _output feature의 개수_\n",
        "            num_layers (_int_): _필요한 RNN layer 수_\n",
        "        \"\"\"\n",
        "        super(RNN_layer, self).__init__()\n",
        "        self.linear = KAN([input_size,input_size*2-1],grid=1)\n",
        "        self.input_size = input_size\n",
        "        self.output_size = output_size\n",
        "        self.num_layer = num_layers\n",
        "        self.cls_layer = nn.Sequential(nn.Linear(4,16),nn.ReLU(),nn.Linear(16,1))\n",
        "        ## QNE 수행할 Linear layer\n",
        "        self.nqe_model = nQE_model\n",
        "\n",
        "        ## Ansatz parameter\n",
        "        self.ansatz_params_1 = nn.Parameter(torch.rand([24],dtype = torch.float32),requires_grad=True)\n",
        "        self.ansatz_params_2 = nn.Parameter(torch.rand([24],dtype = torch.float32),requires_grad=True)\n",
        "        self.rnn_layer = quantum_layer\n",
        "\n",
        "\n",
        "    def nQE_layer(self, input):\n",
        "        if self.nqe_model == None:\n",
        "            n_qu = input.shape[1]\n",
        "            n_batch = input.shape[0]\n",
        "            for i in range(n_qu-1):\n",
        "                input = torch.cat(([input,((torch.pi-input[:,i])*(torch.pi-input[:,i+1])).reshape(n_batch,1)]),1)\n",
        "            return input\n",
        "        \n",
        "        if self.nqe_model.mode == 'KAN':\n",
        "            result = self.nqe_model.linear1(input)\n",
        "            \n",
        "        \n",
        "        if self.nqe_model.mode == 'FC':\n",
        "            result = self.nqe_model(input)\n",
        "        return result\n",
        "    \n",
        "\n",
        "    def forward(self,inputs,return_hidden_list = False):\n",
        "        \"\"\"_summary_\n",
        "\n",
        "        Args:\n",
        "            inputs (_torch tensor_): _(batch,seq_len,feature_size)_\n",
        "        \"\"\"\n",
        "\n",
        "        batch = inputs.shape[0]\n",
        "        seq_len = inputs.shape[1]\n",
        "        initial_t = generate_tensor(30,[inputs.shape[0],inputs.shape[2]*2-1]).float()\n",
        "        inputs = inputs.permute(1, 0, 2)\n",
        "        ## inputs  = (seq_len,batch,feature_size)\n",
        "        input = self.nQE_layer(inputs[0])\n",
        "        \n",
        "        hidden = torch.stack(self.rnn_layer(initial_t,input,self.ansatz_params_1,self.ansatz_params_2),dim=1).float()\n",
        "        hidden = hidden.to(torch.float32)\n",
        "        if return_hidden_list:\n",
        "            hidden_list = hidden\n",
        "        for input in inputs[1:]:\n",
        "            input = self.nQE_layer(input)\n",
        "            hidden = self.linear(hidden)\n",
        "            hidden = torch.stack(self.rnn_layer(hidden,input,self.ansatz_params_1,self.ansatz_params_2),dim=1).float()\n",
        "            hidden = hidden.to(torch.float32)\n",
        "            if return_hidden_list:\n",
        "                hidden_list = torch.concat([hidden_list,hidden])\n",
        "        if return_hidden_list:\n",
        "            hidden_list = torch.reshape(hidden_list,[batch,seq_len,-1])\n",
        "            return hidden_list\n",
        "        return self.cls_layer(hidden)"
      ]
    },
    {
      "cell_type": "markdown",
      "metadata": {},
      "source": [
        "## Data uploading"
      ]
    },
    {
      "cell_type": "code",
      "execution_count": 80,
      "metadata": {},
      "outputs": [],
      "source": [
        "import pickle\n",
        "with open('train_data_NQE.pkl','rb') as file:\n",
        "    data_dict = pickle.load(file)\n",
        "\n",
        "train_loader,test_loader = data_dict['train'],data_dict['test']"
      ]
    },
    {
      "cell_type": "markdown",
      "metadata": {},
      "source": [
        "## Model, NQE model, criterion, optimizer"
      ]
    },
    {
      "cell_type": "code",
      "execution_count": 81,
      "metadata": {
        "id": "KN1XjNzMKg0q"
      },
      "outputs": [],
      "source": [
        "my_nqe = NQE(n_feature=n_qu,mode='FC')\n",
        "my_nqe.load_state_dict(torch.load('./model_0001_fc_5_purefidelity.pth'))\n",
        "\n",
        "model = RNN_layer(4,1,5, nQE_model=my_nqe)\n",
        "#model = RNNModel(4,32,1)\n",
        "criterion = nn.MSELoss()\n",
        "optimizer = optim.Adam(model.parameters(), lr=0.002)"
      ]
    },
    {
      "cell_type": "markdown",
      "metadata": {},
      "source": [
        "## Train"
      ]
    },
    {
      "cell_type": "code",
      "execution_count": 82,
      "metadata": {
        "id": "O4BMa4xyKg0q"
      },
      "outputs": [
        {
          "name": "stdout",
          "output_type": "stream",
          "text": [
            "epoch : 1 loss :0.71340012550354 loss_test = 0.5497932434082031\n",
            "epoch : 2 loss :0.4175713062286377 loss_test = 0.2877243161201477\n",
            "epoch : 3 loss :0.17680741846561432 loss_test = 0.10526594519615173\n",
            "epoch : 4 loss :0.0681636705994606 loss_test = 0.05860542878508568\n",
            "epoch : 5 loss :0.048774100840091705 loss_test = 0.04787803813815117\n",
            "epoch : 6 loss :0.043309129774570465 loss_test = 0.04443778097629547\n",
            "epoch : 7 loss :0.0407111831009388 loss_test = 0.043012835085392\n",
            "epoch : 8 loss :0.038908712565898895 loss_test = 0.04095560684800148\n",
            "epoch : 9 loss :0.03668365254998207 loss_test = 0.03989402577280998\n",
            "epoch : 10 loss :0.03469886630773544 loss_test = 0.03766479343175888\n",
            "epoch : 11 loss :0.03258431330323219 loss_test = 0.036047980189323425\n",
            "epoch : 12 loss :0.030590824782848358 loss_test = 0.03361548110842705\n",
            "epoch : 13 loss :0.028117602691054344 loss_test = 0.031175052747130394\n",
            "epoch : 14 loss :0.025795748457312584 loss_test = 0.029556315392255783\n",
            "epoch : 15 loss :0.023611702024936676 loss_test = 0.026161396875977516\n",
            "epoch : 16 loss :0.0211026668548584 loss_test = 0.02326793409883976\n",
            "epoch : 17 loss :0.018736178055405617 loss_test = 0.021275803446769714\n",
            "epoch : 18 loss :0.017198821529746056 loss_test = 0.0236885454505682\n",
            "epoch : 19 loss :0.016661666333675385 loss_test = 0.01681368798017502\n",
            "epoch : 20 loss :0.013632954098284245 loss_test = 0.014133846387267113\n",
            "epoch : 21 loss :0.011606059968471527 loss_test = 0.012994472868740559\n",
            "epoch : 22 loss :0.010602347552776337 loss_test = 0.01298026368021965\n",
            "epoch : 23 loss :0.009933080524206161 loss_test = 0.012486649677157402\n",
            "epoch : 24 loss :0.009413231164216995 loss_test = 0.011819246225059032\n",
            "epoch : 25 loss :0.008882611989974976 loss_test = 0.011087488383054733\n",
            "epoch : 26 loss :0.008466597646474838 loss_test = 0.010665405541658401\n",
            "epoch : 27 loss :0.008153649047017097 loss_test = 0.010488877072930336\n",
            "epoch : 28 loss :0.007965333759784698 loss_test = 0.01049524825066328\n",
            "epoch : 29 loss :0.007854703813791275 loss_test = 0.01056667324155569\n",
            "epoch : 30 loss :0.007772717624902725 loss_test = 0.010651829652488232\n",
            "epoch : 31 loss :0.007710612844675779 loss_test = 0.01069916132837534\n",
            "epoch : 32 loss :0.007657607086002827 loss_test = 0.010662849061191082\n",
            "epoch : 33 loss :0.007592420093715191 loss_test = 0.010595903731882572\n",
            "epoch : 34 loss :0.007527836132794619 loss_test = 0.010624457150697708\n",
            "epoch : 35 loss :0.007490483112633228 loss_test = 0.010651788674294949\n",
            "epoch : 36 loss :0.007458744570612907 loss_test = 0.010681848973035812\n"
          ]
        }
      ],
      "source": [
        "train_corpus = train_seq(model, train_loader, test_loader)\n",
        "\n",
        "train_loss_list, test_loss_list = train_corpus.train(500,optimizer,criterion)"
      ]
    },
    {
      "cell_type": "markdown",
      "metadata": {},
      "source": [
        "## Plotting"
      ]
    },
    {
      "cell_type": "code",
      "execution_count": 69,
      "metadata": {},
      "outputs": [
        {
          "data": {
            "text/plain": [
              "<matplotlib.legend.Legend at 0x17fd6b980>"
            ]
          },
          "execution_count": 69,
          "metadata": {},
          "output_type": "execute_result"
        },
        {
          "data": {
            "image/png": "[encoded data removed]",
            "text/plain": [
              "<Figure size 640x480 with 1 Axes>"
            ]
          },
          "metadata": {},
          "output_type": "display_data"
        }
      ],
      "source": [
        "import matplotlib.pyplot as plt\n",
        "\n",
        "plt.plot(train_loss_list, label = 'train loss')\n",
        "plt.ylim(0,0.04)\n",
        "plt.plot(test_loss_list, label = 'test loss')\n",
        "plt.ylabel('loss')\n",
        "plt.xlabel('iteration')\n",
        "plt.legend()"
      ]
    },
    {
      "cell_type": "markdown",
      "metadata": {},
      "source": [
        "## MSE"
      ]
    },
    {
      "cell_type": "code",
      "execution_count": 63,
      "metadata": {
        "colab": {
          "base_uri": "https://localhost:8080/"
        },
        "id": "ye6cxRVyjUbO",
        "outputId": "eac3637e-c9c7-4baf-fe49-5b90328ebc5a"
      },
      "outputs": [
        {
          "name": "stdout",
          "output_type": "stream",
          "text": [
            "tensor(22270.1816, grad_fn=<MseLossBackward0>)\n"
          ]
        }
      ],
      "source": [
        "def decoding(input,max_value):\n",
        "  max = 1754.882\n",
        "  min = 85.192\n",
        "  return (max-min)/max_value*input+min\n",
        "\n",
        "for feature,label in test_loader:\n",
        "    pred = decoding(model(feature),1)\n",
        "    true = decoding(label,1)\n",
        "    print(nn.MSELoss()(true,pred))\n",
        "    break"
      ]
    },
    {
      "cell_type": "markdown",
      "metadata": {},
      "source": [
        "예시 : pd.DataFrame{’tain_loss’:train_loss,…..}\n",
        "\n",
        "저장할때 index = False 해야함\n",
        "\n",
        "data.to_csv(’경로명’,index=False)\n",
        "\n",
        "폴더명 :  result_data\n",
        "\n",
        "파일명 : <model_name>_<method_name>_data.csv"
      ]
    },
    {
      "cell_type": "code",
      "execution_count": 64,
      "metadata": {
        "id": "mUI_JKHZKg0s"
      },
      "outputs": [],
      "source": [
        "pred_list, train_label_list, test_pred_list, test_label_list = get_data(model=model, train_loader=test_loader, test_loader=test_loader)\n",
        "\n",
        "data_df = pd.DataFrame({'train_loss': train_loss_list, 'test_loss':test_loss_list,'train_predict':pred_list,'train_label':train_label_list,'validation_pred':test_pred_list,'validation_label':test_label_list})"
      ]
    },
    {
      "cell_type": "code",
      "execution_count": 65,
      "metadata": {},
      "outputs": [
        {
          "name": "stdout",
          "output_type": "stream",
          "text": [
            "                       0                                                  1\n",
            "0             train_loss  [0.7028571963310242, 0.26157712936401367, 0.05...\n",
            "1         test_loss_list  [0.4050746560096741, 0.09366366267204285, 0.01...\n",
            "2          train_predict  [0.5189198, 0.63135177, 0.5798306, 0.6479473, ...\n",
            "3       train_label_list  [0.6068493, 0.6901615, 0.7628788, 0.8246914, 0...\n",
            "4   validation_pred_list  [0.5189198, 0.63135177, 0.5798306, 0.6479473, ...\n",
            "5  validation_label_list  [0.6068493, 0.6901615, 0.7628788, 0.8246914, 0...\n"
          ]
        }
      ],
      "source": [
        "print(data_df)"
      ]
    },
    {
      "cell_type": "code",
      "execution_count": 66,
      "metadata": {},
      "outputs": [],
      "source": [
        "data_df.to_csv('./result_data_ysj/qRNN_NQEKAN_mse22270._data.csv',index=False)"
      ]
    },
    {
      "cell_type": "code",
      "execution_count": null,
      "metadata": {},
      "outputs": [],
      "source": []
    }
  ],
  "metadata": {
    "colab": {
      "provenance": []
    },
    "kernelspec": {
      "display_name": "penny_torch",
      "language": "python",
      "name": "python3"
    },
    "language_info": {
      "codemirror_mode": {
        "name": "ipython",
        "version": 3
      },
      "file_extension": ".py",
      "mimetype": "text/x-python",
      "name": "python",
      "nbconvert_exporter": "python",
      "pygments_lexer": "ipython3",
      "version": "3.12.1"
    }
  },
  "nbformat": 4,
  "nbformat_minor": 0
}
