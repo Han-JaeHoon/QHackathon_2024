{
 "cells": [
  {
   "cell_type": "code",
   "execution_count": 2,
   "metadata": {},
   "outputs": [],
   "source": [
    "import torch\n",
    "import torch.nn as nn\n",
    "import torch.nn.functional as F\n",
    "import matplotlib.pyplot as plt\n",
    "import numpy as np\n",
    "\n",
    "import pennylane as qml\n",
    "import pandas as pd"
   ]
  },
  {
   "cell_type": "code",
   "execution_count": 3,
   "metadata": {},
   "outputs": [],
   "source": [
    "df = pd.read_csv('./dataset.csv')"
   ]
  },
  {
   "cell_type": "code",
   "execution_count": 4,
   "metadata": {},
   "outputs": [
    {
     "name": "stdout",
     "output_type": "stream",
     "text": [
      "tensor([1.7476e-02, 2.3959e+01, 3.5131e-02, 1.2807e+01])\n"
     ]
    }
   ],
   "source": [
    "n_train = 50\n",
    "\n",
    "y_train = torch.tensor(df['nat_demand'].to_numpy()[:n_train]).to(torch.float)\n",
    "x_train = torch.tensor(df[sorted(\"T2M_toc\tQV2M_toc TQL_toc W2M_toc T2M_san QV2M_san TQL_san W2M_san T2M_dav QV2M_dav TQL_dav W2M_dav\".split())].to_numpy()[:n_train]).to(torch.float)\n",
    "\n",
    "xs = torch.tensor([(x_train[:,3 * i : 3 * i + 3].sum(dim=1)/3).tolist() for i in range(4)]).T\n",
    "print(xs[1])\n",
    "y_train = (y_train-y_train.min())/(y_train.max()-y_train.min())\n"
   ]
  },
  {
   "cell_type": "code",
   "execution_count": 5,
   "metadata": {},
   "outputs": [
    {
     "data": {
      "image/png": "[encoded data removed]",
      "text/plain": [
       "<Figure size 640x480 with 1 Axes>"
      ]
     },
     "metadata": {},
     "output_type": "display_data"
    }
   ],
   "source": [
    "plt.plot(y_train)\n",
    "plt.show()"
   ]
  },
  {
   "cell_type": "code",
   "execution_count": 6,
   "metadata": {},
   "outputs": [
    {
     "name": "stdout",
     "output_type": "stream",
     "text": [
      "[1.0, 4.0, 7.0, 10.0]\n"
     ]
    }
   ],
   "source": [
    "temp = [i for i in range(12)]\n",
    "temp_result = [sum(temp[3 * i : 3 * i + 3]) / 3 for i in range(4)]\n",
    "print(temp_result)"
   ]
  },
  {
   "cell_type": "code",
   "execution_count": 123,
   "metadata": {},
   "outputs": [],
   "source": [
    "class G1(nn.Module):\n",
    "    '''\n",
    "    G for V(G)\n",
    "    '''\n",
    "    def __init__(self, input):\n",
    "        super(G1, self).__init__()\n",
    "        self.li1 = nn.Linear(input,16)\n",
    "        self.li2 = nn.Linear(16, 16)\n",
    "        self.li3 = nn.Linear(16, 2*input-1)\n",
    "        \n",
    "    def forward(self, x):\n",
    "        x = self.li1(x)\n",
    "        x = F.relu(x)\n",
    "        x = self.li2(x)\n",
    "        x = F.relu(x)\n",
    "        x = self.li3(x)\n",
    "        x = 2*torch.pi*F.relu(x)\n",
    "        return x"
   ]
  },
  {
   "cell_type": "code",
   "execution_count": 124,
   "metadata": {},
   "outputs": [],
   "source": [
    "n_qu = 4\n",
    "dev = qml.device(\"default.qubit\", wires = n_qu)\n",
    "\n",
    "def embedding(params, n_qu):\n",
    "    '''\n",
    "    embedding layer\n",
    "    '''\n",
    "    n = n_qu\n",
    "    for i in range(n):\n",
    "        qml.Hadamard(i)\n",
    "        qml.RZ(2.0 * params[:,i], i)\n",
    "    \n",
    "    for i in range(n - 1):\n",
    "        qml.IsingZZ(2.0 * params[:,n + i] ,[i , i + 1])\n",
    "\n",
    "@qml.qnode(dev, interface=\"torch\")\n",
    "def fidelity(vec1, vec2, n_qu):\n",
    "    '''\n",
    "        Args:\n",
    "            vec1 : list, (2n - 1)개의 element로 이루어진 vector\n",
    "            vec2 : list, (2n - 1)개의 element로 이루어진 vector\n",
    "    '''\n",
    "    embedding(vec1, n_qu) # Phi(x1) circuit 적용\n",
    "    qml.adjoint(embedding)(vec2, n_qu) # Phi^t(x2) 적용\n",
    "    return qml.probs()\n"
   ]
  },
  {
   "cell_type": "code",
   "execution_count": 125,
   "metadata": {},
   "outputs": [],
   "source": [
    "class feature_train(nn.Module):\n",
    "    def __init__(self,n_qu):\n",
    "        super(feature_train, self).__init__()\n",
    "        self.n_qu = n_qu\n",
    "        self.linear1 = G1(input=n_qu)\n",
    "        self.quantum_layer = fidelity\n",
    "    def forward(self,input1,input2):\n",
    "        input1 = self.linear1(input1)\n",
    "        input2 = self.linear1(input2)\n",
    "        output = self.quantum_layer(input1,input2,self.n_qu)[:,0]\n",
    "        return output\n",
    "        \n",
    "        "
   ]
  },
  {
   "cell_type": "code",
   "execution_count": 141,
   "metadata": {},
   "outputs": [
    {
     "name": "stdout",
     "output_type": "stream",
     "text": [
      "epoch : 0, risk : -0.6482671499252319\n",
      "epoch : 1, risk : -0.653384804725647\n",
      "epoch : 2, risk : -0.6584529280662537\n",
      "epoch : 3, risk : -0.665341317653656\n",
      "epoch : 4, risk : -0.6707695722579956\n",
      "epoch : 5, risk : -0.6764020323753357\n",
      "epoch : 6, risk : -0.6821655035018921\n",
      "epoch : 7, risk : -0.6845897436141968\n",
      "epoch : 8, risk : -0.6868038177490234\n",
      "epoch : 9, risk : -0.6885427832603455\n",
      "epoch : 10, risk : -0.689517617225647\n",
      "epoch : 11, risk : -0.690051794052124\n",
      "epoch : 12, risk : -0.6907605528831482\n",
      "epoch : 13, risk : -0.6914724111557007\n",
      "epoch : 14, risk : -0.6923242807388306\n",
      "epoch : 15, risk : -0.693970799446106\n",
      "epoch : 16, risk : -0.6954250335693359\n",
      "epoch : 17, risk : -0.6972097754478455\n",
      "epoch : 18, risk : -0.6989204287528992\n",
      "epoch : 19, risk : -0.7010671496391296\n",
      "epoch : 20, risk : -0.7036150097846985\n",
      "epoch : 21, risk : -0.7065166234970093\n",
      "epoch : 22, risk : -0.7097094058990479\n",
      "epoch : 23, risk : -0.7131173610687256\n",
      "epoch : 24, risk : -0.7166568040847778\n",
      "epoch : 25, risk : -0.7202395796775818\n",
      "epoch : 26, risk : -0.7237985134124756\n",
      "epoch : 27, risk : -0.7272226214408875\n",
      "epoch : 28, risk : -0.730424702167511\n",
      "epoch : 29, risk : -0.7334175109863281\n",
      "epoch : 30, risk : -0.7361566424369812\n",
      "epoch : 31, risk : -0.7388163805007935\n",
      "epoch : 32, risk : -0.7413351535797119\n",
      "epoch : 33, risk : -0.7435826063156128\n",
      "epoch : 34, risk : -0.745604932308197\n",
      "epoch : 35, risk : -0.7472438812255859\n",
      "epoch : 36, risk : -0.7484633922576904\n",
      "epoch : 37, risk : -0.7584825754165649\n",
      "epoch : 38, risk : -0.7682363986968994\n",
      "epoch : 39, risk : -0.7697227597236633\n",
      "epoch : 40, risk : -0.7685565948486328\n",
      "epoch : 41, risk : -0.7677808403968811\n",
      "epoch : 42, risk : -0.7675524950027466\n",
      "epoch : 43, risk : -0.7677755951881409\n",
      "epoch : 44, risk : -0.7683660984039307\n",
      "epoch : 45, risk : -0.7692506313323975\n",
      "epoch : 46, risk : -0.7703604698181152\n",
      "epoch : 47, risk : -0.7716186046600342\n",
      "epoch : 48, risk : -0.7729353308677673\n",
      "epoch : 49, risk : -0.7742096185684204\n"
     ]
    }
   ],
   "source": [
    "epochs = 50\n",
    "\n",
    "model = feature_train(n_qu)\n",
    "\n",
    "optimizer = torch.optim.Adam(params=model.parameters(), lr = 0.0005, betas=[0.9,0.999])\n",
    "\n",
    "for epoch in range(epochs):\n",
    "    optimizer.zero_grad()\n",
    "    risk = 0\n",
    "    f_loss_list = []\n",
    "\n",
    "    for i in range(n_train-1):\n",
    "        train_data = torch.stack([xs,torch.concat([xs[(i+1):],xs[:(i+1)]])])\n",
    "        label_data = torch.stack([y_train,torch.concat([y_train[(i+1):],y_train[:(i+1)]])])\n",
    "        f_loss = model(train_data[0],train_data[1])\n",
    "        loss = -torch.sum((f_loss -(nn.Sigmoid()(label_data[0])-nn.Sigmoid()(label_data[1]))**2)**2)/n_train\n",
    "        #print((label_data[0]-label_data[1])**2)\n",
    "        #loss = -(loss**2)\n",
    "        loss.backward()\n",
    "    optimizer.step()\n",
    "    print(f'epoch : {epoch}, risk : {loss}') if epoch%1==0 else None"
   ]
  },
  {
   "cell_type": "code",
   "execution_count": 139,
   "metadata": {},
   "outputs": [
    {
     "data": {
      "text/plain": [
       "tensor([1.7440e-01, 1.4744e-01, 3.0180e-02, 2.6146e-02, 9.4615e-03, 3.6638e-02,\n",
       "        1.3499e-01, 2.9526e-01, 3.0147e-01, 2.2711e-01, 7.4114e-03, 9.5516e-02,\n",
       "        3.7374e-02, 1.2405e-02, 7.1627e-02, 8.1867e-02, 8.8109e-02, 1.2917e-02,\n",
       "        8.9005e-02, 1.1386e-01, 5.7232e-02, 8.4483e-02, 1.0567e-01, 8.0050e-02,\n",
       "        6.0826e-02, 3.8874e-02, 4.8572e-02, 3.7773e-02, 2.5318e-02, 5.4946e-02,\n",
       "        2.2049e-02, 1.0344e-01, 1.4525e-01, 1.2549e-01, 1.0250e-01, 2.5438e-02,\n",
       "        4.4359e-02, 2.9606e-04, 2.9881e-02, 4.8085e-02, 5.7506e-02, 1.7191e-01,\n",
       "        9.0316e-02, 1.0056e-02, 7.8168e-02, 7.5507e-02, 1.5205e-01, 1.3681e-01,\n",
       "        7.6263e-02, 6.8422e-02])"
      ]
     },
     "execution_count": 139,
     "metadata": {},
     "output_type": "execute_result"
    }
   ],
   "source": [
    "abs(label_data[0]-label_data[1])"
   ]
  },
  {
   "cell_type": "code",
   "execution_count": 140,
   "metadata": {},
   "outputs": [
    {
     "data": {
      "text/plain": [
       "tensor([0.9961, 0.9954, 0.9952, 0.9918, 0.9438, 0.9492, 0.4333, 0.1716, 0.2389,\n",
       "        0.4508, 0.7138, 0.9634, 0.9974, 0.9739, 0.8992, 0.6935, 0.2001, 0.0482,\n",
       "        0.8161, 0.9312, 0.9760, 0.9812, 0.9881, 0.9933, 0.9979, 0.9982, 0.9968,\n",
       "        0.9991, 0.9995, 0.9988, 0.1647, 0.0524, 0.2741, 0.5523, 0.8485, 0.9867,\n",
       "        0.9848, 0.9622, 0.9151, 0.7803, 0.2729, 0.2106, 0.9409, 0.9844, 0.9806,\n",
       "        0.9932, 0.9944, 0.9855, 0.9765, 0.9951], grad_fn=<SelectBackward0>)"
      ]
     },
     "execution_count": 140,
     "metadata": {},
     "output_type": "execute_result"
    }
   ],
   "source": [
    "model(train_data[0],train_data[1])"
   ]
  },
  {
   "cell_type": "code",
   "execution_count": null,
   "metadata": {},
   "outputs": [],
   "source": []
  }
 ],
 "metadata": {
  "kernelspec": {
   "display_name": "penny_torch",
   "language": "python",
   "name": "python3"
  },
  "language_info": {
   "codemirror_mode": {
    "name": "ipython",
    "version": 3
   },
   "file_extension": ".py",
   "mimetype": "text/x-python",
   "name": "python",
   "nbconvert_exporter": "python",
   "pygments_lexer": "ipython3",
   "version": "3.11.9"
  }
 },
 "nbformat": 4,
 "nbformat_minor": 2
}
