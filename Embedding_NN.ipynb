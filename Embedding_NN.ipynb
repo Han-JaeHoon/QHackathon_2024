{
 "cells": [
  {
   "cell_type": "code",
   "execution_count": 39,
   "metadata": {},
   "outputs": [],
   "source": [
    "import torch\n",
    "import torch.nn as nn\n",
    "import torch.nn.functional as F\n",
    "import matplotlib.pyplot as plt\n",
    "import numpy as np\n",
    "\n",
    "import pennylane as qml\n",
    "import pandas as pd"
   ]
  },
  {
   "cell_type": "code",
   "execution_count": 30,
   "metadata": {},
   "outputs": [],
   "source": [
    "df = pd.read_csv('./dataset.csv')"
   ]
  },
  {
   "cell_type": "code",
   "execution_count": 31,
   "metadata": {},
   "outputs": [
    {
     "name": "stdout",
     "output_type": "stream",
     "text": [
      "tensor([1.7476e-02, 2.3959e+01, 3.5131e-02, 1.2807e+01])\n"
     ]
    }
   ],
   "source": [
    "n_train = 50\n",
    "\n",
    "y_train = torch.tensor(df['nat_demand'].to_numpy()[:n_train]).to(torch.float)\n",
    "x_train = torch.tensor(df[sorted(\"T2M_toc\tQV2M_toc TQL_toc W2M_toc T2M_san QV2M_san TQL_san W2M_san T2M_dav QV2M_dav TQL_dav W2M_dav\".split())].to_numpy()[:n_train]).to(torch.float)\n",
    "\n",
    "xs = torch.tensor([(x_train[:,3 * i : 3 * i + 3].sum(dim=1)/3).tolist() for i in range(4)]).T\n",
    "print(xs[1])\n",
    "y_train = (y_train-y_train.min())/(y_train.max()-y_train.min())\n"
   ]
  },
  {
   "cell_type": "code",
   "execution_count": 32,
   "metadata": {},
   "outputs": [
    {
     "data": {
      "image/png": "[encoded data removed]",
      "text/plain": [
       "<Figure size 640x480 with 1 Axes>"
      ]
     },
     "metadata": {},
     "output_type": "display_data"
    }
   ],
   "source": [
    "plt.plot(y_train)\n",
    "plt.show()"
   ]
  },
  {
   "cell_type": "code",
   "execution_count": 33,
   "metadata": {},
   "outputs": [
    {
     "name": "stdout",
     "output_type": "stream",
     "text": [
      "[1.0, 4.0, 7.0, 10.0]\n"
     ]
    }
   ],
   "source": [
    "temp = [i for i in range(12)]\n",
    "temp_result = [sum(temp[3 * i : 3 * i + 3]) / 3 for i in range(4)]\n",
    "print(temp_result)"
   ]
  },
  {
   "cell_type": "code",
   "execution_count": 34,
   "metadata": {},
   "outputs": [],
   "source": [
    "class G1(nn.Module):\n",
    "    '''\n",
    "    G for V(G)\n",
    "    '''\n",
    "    def __init__(self, input, hidden1, hidden2):\n",
    "        super(G1, self).__init__()\n",
    "        self.li1 = nn.Linear(input, hidden1)\n",
    "        self.li2 = nn.Linear(hidden1, hidden2)\n",
    "        self.li3 = nn.Linear(hidden2, 2*input-1)\n",
    "        \n",
    "    def forward(self, x):\n",
    "        x = self.li1(x)\n",
    "        x = F.relu(x)\n",
    "        x = self.li2(x)\n",
    "        x = F.relu(x)\n",
    "        x = self.li3(x)\n",
    "        x = 2*torch.pi*F.relu(x)\n",
    "        return x"
   ]
  },
  {
   "cell_type": "code",
   "execution_count": 35,
   "metadata": {},
   "outputs": [],
   "source": [
    "n_qu = 4\n",
    "dev = qml.device(\"default.qubit\", wires = n_qu)\n",
    "\n",
    "def embedding(params, n_qu):\n",
    "    '''\n",
    "    embedding layer\n",
    "    '''\n",
    "    n = n_qu\n",
    "    for i in range(n):\n",
    "        qml.Hadamard(i)\n",
    "        qml.RZ(2.0 * params[i], i)\n",
    "    \n",
    "    for i in range(n - 1):\n",
    "        qml.IsingZZ(2.0 * params[n + i] ,[i , i + 1])\n",
    "\n",
    "@qml.qnode(dev, interface=\"torch\")\n",
    "def fidelity(vec1, vec2, n_qu):\n",
    "    '''\n",
    "        Args:\n",
    "            vec1 : list, (2n - 1)개의 element로 이루어진 vector\n",
    "            vec2 : list, (2n - 1)개의 element로 이루어진 vector\n",
    "    '''\n",
    "    embedding(vec1, n_qu) # Phi(x1) circuit 적용\n",
    "    qml.adjoint(embedding)(vec2, n_qu) # Phi^t(x2) 적용\n",
    "    return qml.probs()\n"
   ]
  },
  {
   "cell_type": "code",
   "execution_count": 42,
   "metadata": {},
   "outputs": [
    {
     "name": "stdout",
     "output_type": "stream",
     "text": [
      "0.22831768\n",
      "epoch : 0, risk : -0.17420436441898346\n",
      "0.22762385\n",
      "epoch : 1, risk : -0.1562039852142334\n"
     ]
    },
    {
     "ename": "KeyboardInterrupt",
     "evalue": "",
     "output_type": "error",
     "traceback": [
      "\u001b[0;31m---------------------------------------------------------------------------\u001b[0m",
      "\u001b[0;31mKeyboardInterrupt\u001b[0m                         Traceback (most recent call last)",
      "Cell \u001b[0;32mIn[42], line 12\u001b[0m\n\u001b[1;32m      9\u001b[0m risk \u001b[38;5;241m=\u001b[39m \u001b[38;5;241m0\u001b[39m\n\u001b[1;32m     10\u001b[0m f_loss_list \u001b[38;5;241m=\u001b[39m []\n\u001b[0;32m---> 12\u001b[0m \u001b[38;5;28;01mfor\u001b[39;00m i \u001b[38;5;129;01min\u001b[39;00m \u001b[38;5;28;43mrange\u001b[39;49m\u001b[43m(\u001b[49m\u001b[43mn_train\u001b[49m\u001b[43m)\u001b[49m:\n\u001b[1;32m     13\u001b[0m     \u001b[38;5;28;01mfor\u001b[39;00m j \u001b[38;5;129;01min\u001b[39;00m \u001b[38;5;28mrange\u001b[39m(n_train):\n\u001b[1;32m     14\u001b[0m         f_loss \u001b[38;5;241m=\u001b[39m fidelity(model(xs[i]),model(xs[j]),n_qu\u001b[38;5;241m=\u001b[39mn_qu)[\u001b[38;5;241m0\u001b[39m]\n",
      "\u001b[0;31mKeyboardInterrupt\u001b[0m: "
     ]
    }
   ],
   "source": [
    "epochs = 10\n",
    "\n",
    "model = G1(input = n_qu, hidden1=3*n_qu, hidden2=2*n_qu)\n",
    "\n",
    "optimizer = torch.optim.Adam(params=model.parameters(), lr = 0.3, betas=[0.9,0.999])\n",
    "\n",
    "for epoch in range(epochs):\n",
    "    optimizer.zero_grad()\n",
    "    risk = 0\n",
    "    f_loss_list = []\n",
    "\n",
    "    for i in range(n_train):\n",
    "        for j in range(n_train):\n",
    "            f_loss = fidelity(model(xs[i]),model(xs[j]),n_qu=n_qu)[0]\n",
    "            f_loss_list.append(f_loss.detach().numpy())\n",
    "            loss = f_loss - (y_train[i]-y_train[j])**2\n",
    "            loss = -(loss**2)\n",
    "            risk += loss\n",
    "\n",
    "    print(np.mean(np.array(f_loss_list)))\n",
    "    risk /= (n_train**2)\n",
    "    risk.backward()\n",
    "    optimizer.step()\n",
    "    print(f'epoch : {epoch}, risk : {risk}') if epoch%1==0 else None"
   ]
  },
  {
   "cell_type": "code",
   "execution_count": null,
   "metadata": {},
   "outputs": [],
   "source": []
  }
 ],
 "metadata": {
  "kernelspec": {
   "display_name": "penny_torch",
   "language": "python",
   "name": "python3"
  },
  "language_info": {
   "codemirror_mode": {
    "name": "ipython",
    "version": 3
   },
   "file_extension": ".py",
   "mimetype": "text/x-python",
   "name": "python",
   "nbconvert_exporter": "python",
   "pygments_lexer": "ipython3",
   "version": "3.12.1"
  }
 },
 "nbformat": 4,
 "nbformat_minor": 2
}
