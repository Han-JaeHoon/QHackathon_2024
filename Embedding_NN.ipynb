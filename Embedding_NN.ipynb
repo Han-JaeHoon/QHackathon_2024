{
 "cells": [
  {
   "cell_type": "code",
   "execution_count": 180,
   "metadata": {},
   "outputs": [],
   "source": [
    "import torch\n",
    "import torch.nn as nn\n",
    "import torch.nn.functional as F\n",
    "import matplotlib.pyplot as plt\n",
    "import numpy as np\n",
    "from RNN_block import RNN_block\n",
    "import pennylane as qml\n",
    "import pandas as pd"
   ]
  },
  {
   "cell_type": "code",
   "execution_count": 3,
   "metadata": {},
   "outputs": [],
   "source": [
    "df = pd.read_csv('./dataset.csv')"
   ]
  },
  {
   "cell_type": "code",
   "execution_count": 4,
   "metadata": {},
   "outputs": [
    {
     "name": "stdout",
     "output_type": "stream",
     "text": [
      "tensor([1.7476e-02, 2.3959e+01, 3.5131e-02, 1.2807e+01])\n"
     ]
    }
   ],
   "source": [
    "n_train = 50\n",
    "\n",
    "y_train = torch.tensor(df['nat_demand'].to_numpy()[:n_train]).to(torch.float)\n",
    "x_train = torch.tensor(df[sorted(\"T2M_toc\tQV2M_toc TQL_toc W2M_toc T2M_san QV2M_san TQL_san W2M_san T2M_dav QV2M_dav TQL_dav W2M_dav\".split())].to_numpy()[:n_train]).to(torch.float)\n",
    "\n",
    "xs = torch.tensor([(x_train[:,3 * i : 3 * i + 3].sum(dim=1)/3).tolist() for i in range(4)]).T\n",
    "print(xs[1])\n",
    "y_train = (y_train-y_train.min())/(y_train.max()-y_train.min())\n"
   ]
  },
  {
   "cell_type": "code",
   "execution_count": 157,
   "metadata": {},
   "outputs": [
    {
     "data": {
      "image/png": "[encoded data removed]",
      "text/plain": [
       "<Figure size 640x480 with 1 Axes>"
      ]
     },
     "metadata": {},
     "output_type": "display_data"
    }
   ],
   "source": [
    "plt.plot(nn.Sigmoid()(y_train-0.5))\n",
    "plt.show()"
   ]
  },
  {
   "cell_type": "code",
   "execution_count": null,
   "metadata": {},
   "outputs": [],
   "source": [
    "import pennylane as qml\n",
    "class RNN_block:\n",
    "    def __init__(self, input_size):\n",
    "        self.input_size = input_size\n",
    "\n",
    "    \n",
    "    def embedding(self, params):\n",
    "        n = (self.input_size + 1) // 2\n",
    "        for i in range(n):\n",
    "            qml.Hadamard(i)\n",
    "            qml.RZ(2.0 * params[:,i], i)\n",
    "        \n",
    "        for i in range(n - 1):\n",
    "            qml.IsingZZ(2.0 * params[:,n + i] ,[i , i + 1])\n",
    "    \n",
    "    def ansatz(self, params, all_entangled = False):\n",
    "        # Length of Params : 3 * num_qubit\n",
    "        n = self.input_size\n",
    "        for i in range(n):\n",
    "            qml.RX(params[3 * i], i)\n",
    "            qml.RY(params[3 * i + 1], i)\n",
    "            qml.RZ(params[3 * i + 2], i)\n",
    "        for i in range(n - 1):\n",
    "            qml.CNOT([i, i + 1])\n",
    "        if all_entangled:\n",
    "            qml.CNOT([n - 1, 0])"
   ]
  },
  {
   "cell_type": "code",
   "execution_count": 123,
   "metadata": {},
   "outputs": [],
   "source": [
    "class G1(nn.Module):\n",
    "    '''\n",
    "    G for V(G)\n",
    "    '''\n",
    "    def __init__(self, input):\n",
    "        super(G1, self).__init__()\n",
    "        self.li1 = nn.Linear(input,16)\n",
    "        self.li2 = nn.Linear(16, 16)\n",
    "        self.li3 = nn.Linear(16, 2*input-1)\n",
    "        \n",
    "    def forward(self, x):\n",
    "        x = self.li1(x)\n",
    "        x = F.relu(x)\n",
    "        x = self.li2(x)\n",
    "        x = F.relu(x)\n",
    "        x = self.li3(x)\n",
    "        x = 2*torch.pi*F.relu(x)\n",
    "        return x"
   ]
  },
  {
   "cell_type": "code",
   "execution_count": 124,
   "metadata": {},
   "outputs": [],
   "source": [
    "n_qu = 4\n",
    "dev = qml.device(\"default.qubit\", wires = n_qu)\n",
    "\n",
    "def embedding(params, n_qu):\n",
    "    '''\n",
    "    embedding layer\n",
    "    '''\n",
    "    n = n_qu\n",
    "    for i in range(n):\n",
    "        qml.Hadamard(i)\n",
    "        qml.RZ(2.0 * params[:,i], i)\n",
    "    \n",
    "    for i in range(n - 1):\n",
    "        qml.IsingZZ(2.0 * params[:,n + i] ,[i , i + 1])\n",
    "\n",
    "@qml.qnode(dev, interface=\"torch\")\n",
    "def fidelity(vec1, vec2, n_qu):\n",
    "    '''\n",
    "        Args:\n",
    "            vec1 : list, (2n - 1)개의 element로 이루어진 vector\n",
    "            vec2 : list, (2n - 1)개의 element로 이루어진 vector\n",
    "    '''\n",
    "    embedding(vec1, n_qu) # Phi(x1) circuit 적용\n",
    "    qml.adjoint(embedding)(vec2, n_qu) # Phi^t(x2) 적용\n",
    "    return qml.probs()\n"
   ]
  },
  {
   "cell_type": "code",
   "execution_count": 125,
   "metadata": {},
   "outputs": [],
   "source": [
    "class feature_train(nn.Module):\n",
    "    def __init__(self,n_qu):\n",
    "        super(feature_train, self).__init__()\n",
    "        self.n_qu = n_qu\n",
    "        self.linear1 = G1(input=n_qu)\n",
    "        self.quantum_layer = fidelity\n",
    "    def forward(self,input1,input2):\n",
    "        input1 = self.linear1(input1)\n",
    "        input2 = self.linear1(input2)\n",
    "        output = self.quantum_layer(input1,input2,self.n_qu)[:,0]\n",
    "        return output\n",
    "        \n",
    "        "
   ]
  },
  {
   "cell_type": "code",
   "execution_count": 168,
   "metadata": {},
   "outputs": [
    {
     "name": "stdout",
     "output_type": "stream",
     "text": [
      "epoch : 0, risk : 2.0047426223754883\n",
      "epoch : 1, risk : 1.8435087203979492\n",
      "epoch : 2, risk : 1.7002350091934204\n",
      "epoch : 3, risk : 1.573248028755188\n",
      "epoch : 4, risk : 1.4780932664871216\n",
      "epoch : 5, risk : 1.3971524238586426\n",
      "epoch : 6, risk : 1.3280318975448608\n",
      "epoch : 7, risk : 1.262467384338379\n",
      "epoch : 8, risk : 1.1939853429794312\n",
      "epoch : 9, risk : 1.131804347038269\n",
      "epoch : 10, risk : 1.0850483179092407\n",
      "epoch : 11, risk : 1.0689524412155151\n",
      "epoch : 12, risk : 1.062799096107483\n",
      "epoch : 13, risk : 1.0648863315582275\n",
      "epoch : 14, risk : 1.068649411201477\n",
      "epoch : 15, risk : 1.0685228109359741\n",
      "epoch : 16, risk : 1.0671449899673462\n",
      "epoch : 17, risk : 1.0632297992706299\n",
      "epoch : 18, risk : 1.0576356649398804\n",
      "epoch : 19, risk : 1.0502053499221802\n",
      "epoch : 20, risk : 1.0444955825805664\n",
      "epoch : 21, risk : 1.0346918106079102\n",
      "epoch : 22, risk : 1.030443549156189\n",
      "epoch : 23, risk : 1.004621148109436\n",
      "epoch : 24, risk : 0.9899076223373413\n",
      "epoch : 25, risk : 0.9753903746604919\n",
      "epoch : 26, risk : 0.9602998495101929\n",
      "epoch : 27, risk : 0.9568606019020081\n",
      "epoch : 28, risk : 0.9450517892837524\n",
      "epoch : 29, risk : 0.934069037437439\n",
      "epoch : 30, risk : 0.9241406917572021\n",
      "epoch : 31, risk : 0.9130989909172058\n",
      "epoch : 32, risk : 0.897144615650177\n",
      "epoch : 33, risk : 0.8902988433837891\n",
      "epoch : 34, risk : 0.8868982195854187\n",
      "epoch : 35, risk : 0.8823977112770081\n",
      "epoch : 36, risk : 0.877204954624176\n",
      "epoch : 37, risk : 0.8950725793838501\n",
      "epoch : 38, risk : 0.864147424697876\n",
      "epoch : 39, risk : 0.8560440540313721\n",
      "epoch : 40, risk : 0.846442699432373\n",
      "epoch : 41, risk : 0.8362934589385986\n",
      "epoch : 42, risk : 0.8263525366783142\n",
      "epoch : 43, risk : 0.8178237676620483\n",
      "epoch : 44, risk : 0.8102769255638123\n",
      "epoch : 45, risk : 0.8039462566375732\n",
      "epoch : 46, risk : 0.7954373359680176\n",
      "epoch : 47, risk : 0.7864012718200684\n",
      "epoch : 48, risk : 0.7809380292892456\n",
      "epoch : 49, risk : 0.779082179069519\n"
     ]
    }
   ],
   "source": [
    "epochs = 50\n",
    "\n",
    "model = feature_train(n_qu)\n",
    "\n",
    "optimizer = torch.optim.Adam(params=model.parameters(), lr = 0.003, betas=[0.9,0.999])\n",
    "\n",
    "for epoch in range(epochs):\n",
    "    optimizer.zero_grad()\n",
    "    risk = 0\n",
    "    f_loss_list = []\n",
    "\n",
    "    for i in range(n_train-1):\n",
    "        train_data = torch.stack([xs,torch.concat([xs[(i+1):],xs[:(i+1)]])])\n",
    "        label_data = torch.stack([y_train,torch.concat([y_train[(i+1):],y_train[:(i+1)]])])\n",
    "        f_loss = model(train_data[0],train_data[1])\n",
    "        loss = -torch.sum(torch.log(1-f_loss) -((label_data[0])-(label_data[1]))**2)/n_train\n",
    "        #print((label_data[0]-label_data[1])**2)\n",
    "        #loss = -(loss**2)\n",
    "        loss.backward()\n",
    "    optimizer.step()\n",
    "    print(f'epoch : {epoch}, risk : {loss}') if epoch%1==0 else None"
   ]
  },
  {
   "cell_type": "code",
   "execution_count": 181,
   "metadata": {},
   "outputs": [
    {
     "data": {
      "text/plain": [
       "torch.Size([50, 4])"
      ]
     },
     "execution_count": 181,
     "metadata": {},
     "output_type": "execute_result"
    }
   ],
   "source": [
    "xs.shape"
   ]
  },
  {
   "cell_type": "code",
   "execution_count": 178,
   "metadata": {},
   "outputs": [],
   "source": [
    "model.linear1.requires_grad_=False"
   ]
  },
  {
   "cell_type": "code",
   "execution_count": 182,
   "metadata": {},
   "outputs": [],
   "source": [
    "block = RNN_block(4)"
   ]
  },
  {
   "cell_type": "code",
   "execution_count": 186,
   "metadata": {},
   "outputs": [
    {
     "data": {
      "text/plain": [
       "tensor([0.2721, 0.1247, 0.0945, 0.0683, 0.0778, 0.0412, 0.1762, 0.4714, 0.7729,\n",
       "        1.0000, 0.9926, 0.8971, 0.8597, 0.8473, 0.7757, 0.6938, 0.6057, 0.6186,\n",
       "        0.7076, 0.5937, 0.5365, 0.4520, 0.3464, 0.2663, 0.2055, 0.1666, 0.1180,\n",
       "        0.0803, 0.0549, 0.0000, 0.0220, 0.1255, 0.2707, 0.3962, 0.4987, 0.5242,\n",
       "        0.5685, 0.5682, 0.5384, 0.4903, 0.4328, 0.6047, 0.6950, 0.6849, 0.6068,\n",
       "        0.5313, 0.3792, 0.2424, 0.1661, 0.0977])"
      ]
     },
     "execution_count": 186,
     "metadata": {},
     "output_type": "execute_result"
    }
   ],
   "source": [
    "y_train"
   ]
  },
  {
   "cell_type": "code",
   "execution_count": 187,
   "metadata": {},
   "outputs": [],
   "source": [
    "@qml.qnode(dev, interface=\"torch\")\n",
    "def ansatz(inputs,weights):\n",
    "    '''\n",
    "        Args:\n",
    "            vec1 : list, (2n - 1)개의 element로 이루어진 vector\n",
    "            vec2 : list, (2n - 1)개의 element로 이루어진 vector\n",
    "    '''\n",
    "    block.embedding(inputs)\n",
    "    block.ansatz(weights) # Phi(x1) circuit 적용\n",
    "    return qml.probs()"
   ]
  },
  {
   "cell_type": "code",
   "execution_count": null,
   "metadata": {},
   "outputs": [],
   "source": [
    "block = RNN_block(4)\n",
    "class train_model(nn.Module):\n",
    "    def __init__(self,feature_model):\n",
    "        self.QNE_layer = feature_model.linear1\n",
    "        self.ansatz = ansatz\n",
    "    def forward(self,input):\n",
    "        output = self.\n",
    "        "
   ]
  }
 ],
 "metadata": {
  "kernelspec": {
   "display_name": "penny_torch",
   "language": "python",
   "name": "python3"
  },
  "language_info": {
   "codemirror_mode": {
    "name": "ipython",
    "version": 3
   },
   "file_extension": ".py",
   "mimetype": "text/x-python",
   "name": "python",
   "nbconvert_exporter": "python",
   "pygments_lexer": "ipython3",
   "version": "3.11.9"
  }
 },
 "nbformat": 4,
 "nbformat_minor": 2
}
